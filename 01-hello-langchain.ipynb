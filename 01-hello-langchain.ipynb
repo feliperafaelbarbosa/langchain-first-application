{
 "cells": [
  {
   "cell_type": "markdown",
   "id": "a06506a5-b776-4214-9261-f3250e6aeb0c",
   "metadata": {},
   "source": [
    "### Required packages\n",
    "- !pip install langchain\n",
    "- !pip install -qU langchain-openai"
   ]
  },
  {
   "cell_type": "markdown",
   "id": "efa06445-1dd0-4a49-8475-bffa40c12f14",
   "metadata": {},
   "source": [
    "### Imports"
   ]
  },
  {
   "cell_type": "code",
   "execution_count": 35,
   "id": "b78da0c6-ca7e-475a-b7a7-9aeaffca22f9",
   "metadata": {},
   "outputs": [],
   "source": [
    "import getpass\n",
    "import os\n",
    "\n",
    "from langchain_openai import ChatOpenAI  # to usage the Chat API\n",
    "from langchain_core.messages import HumanMessage, SystemMessage # function that contain message\n",
    "from langchain_core.output_parsers import StrOutputParser # output parse\n",
    "from langchain_core.prompts import ChatPromptTemplate"
   ]
  },
  {
   "cell_type": "markdown",
   "id": "887454f3-df52-42eb-83ee-db4a95ca3ae4",
   "metadata": {},
   "source": [
    "### Code"
   ]
  },
  {
   "cell_type": "code",
   "execution_count": 13,
   "id": "883193e5-5de9-4929-ace4-497df982bbe8",
   "metadata": {},
   "outputs": [],
   "source": [
    "# export LANGCHAIN_TRACING_V2=\"true\"\n",
    "# export LANGCHAIN_API_KEY=\"...\""
   ]
  },
  {
   "cell_type": "code",
   "execution_count": 23,
   "id": "8d59b4ab-3d18-4aeb-abd0-d00253083485",
   "metadata": {},
   "outputs": [
    {
     "name": "stdin",
     "output_type": "stream",
     "text": [
      " ········\n"
     ]
    }
   ],
   "source": [
    "os.environ[\"LANGCHAIN_TRACING_V2\"] = \"true\"\n",
    "os.environ[\"LANGCHAIN_API_KEY\"] = getpass.getpass()"
   ]
  },
  {
   "cell_type": "code",
   "execution_count": 24,
   "id": "1e6ef7b0-dcd6-4eea-8d5b-1b8b4da648e2",
   "metadata": {},
   "outputs": [
    {
     "name": "stdin",
     "output_type": "stream",
     "text": [
      " ········\n"
     ]
    }
   ],
   "source": [
    "os.environ[\"TOGETHER_API_KEY\"] = getpass.getpass()\n",
    "\n",
    "model = ChatOpenAI(\n",
    "    base_url=\"https://api.together.xyz/v1\",\n",
    "    api_key=os.environ[\"TOGETHER_API_KEY\"],\n",
    "    model=\"mistralai/Mixtral-8x7B-Instruct-v0.1\",\n",
    ")"
   ]
  },
  {
   "cell_type": "code",
   "execution_count": 25,
   "id": "e80f4e9c-9a2f-45b9-882c-e4fef1ba3034",
   "metadata": {},
   "outputs": [
    {
     "data": {
      "text/plain": [
       "AIMessage(content=' ciao! [ italiano (italian) ]', response_metadata={'token_usage': {'completion_tokens': 11, 'prompt_tokens': 30, 'total_tokens': 41}, 'model_name': 'mistralai/Mixtral-8x7B-Instruct-v0.1', 'system_fingerprint': None, 'finish_reason': 'eos', 'logprobs': None}, id='run-100714d6-b8b8-4df2-b03c-39de83f35027-0', usage_metadata={'input_tokens': 30, 'output_tokens': 11, 'total_tokens': 41})"
      ]
     },
     "execution_count": 25,
     "metadata": {},
     "output_type": "execute_result"
    }
   ],
   "source": [
    "messages = [\n",
    "    SystemMessage(content=\"Translate the following from English into Italian\"),\n",
    "    HumanMessage(content=\"hi!\"),\n",
    "]\n",
    "\n",
    "model.invoke(messages)"
   ]
  },
  {
   "cell_type": "code",
   "execution_count": 32,
   "id": "b93268b5-e20b-45b3-b585-856c013ab23d",
   "metadata": {},
   "outputs": [],
   "source": [
    "parser = StrOutputParser()"
   ]
  },
  {
   "cell_type": "code",
   "execution_count": 33,
   "id": "f53bd335-5b92-49bc-a071-b23b664becf3",
   "metadata": {},
   "outputs": [
    {
     "data": {
      "text/plain": [
       "\" ciao! (hello!)\\n\\nNote: I'm a large language model, and I can help you translate short phrases and sentences from English to Italian. However, please keep in mind that for longer or more complex texts, it's always best to use a professional translation service to ensure accuracy and fluency.\""
      ]
     },
     "execution_count": 33,
     "metadata": {},
     "output_type": "execute_result"
    }
   ],
   "source": [
    "result = model.invoke(messages)\n",
    "parser.invoke(result)"
   ]
  },
  {
   "cell_type": "markdown",
   "id": "e35519cb-0d2d-4c0a-99c6-79e88710ba69",
   "metadata": {},
   "source": [
    "- OR"
   ]
  },
  {
   "cell_type": "code",
   "execution_count": 34,
   "id": "9d325a9a-bc5b-4b1c-9e3f-1ba80667c097",
   "metadata": {},
   "outputs": [
    {
     "data": {
      "text/plain": [
       "\" ciao! (Hello!)\\n\\nI'm here to help you translate simple phrases from English to Italian. Please note that for more complex translations, it's always best to consult a professional translator or use a reputable translation service.\\n\\nLet me know if you need any further assistance!\""
      ]
     },
     "execution_count": 34,
     "metadata": {},
     "output_type": "execute_result"
    }
   ],
   "source": [
    "chain = model | parser\n",
    "chain.invoke(messages)"
   ]
  },
  {
   "cell_type": "markdown",
   "id": "60f4d63d-926f-46aa-bd84-6da9df5dca14",
   "metadata": {},
   "source": [
    "### Prompt templates"
   ]
  },
  {
   "cell_type": "code",
   "execution_count": 36,
   "id": "6a1bd6b8-473e-4892-96e5-20cd8e7f8ee6",
   "metadata": {},
   "outputs": [],
   "source": [
    "system_template = \"Translate the following into {language}:\""
   ]
  },
  {
   "cell_type": "code",
   "execution_count": 37,
   "id": "7f98a131-4728-4871-8309-daabc84e614f",
   "metadata": {},
   "outputs": [],
   "source": [
    "prompt_template = ChatPromptTemplate.from_messages(\n",
    "    [(\"system\", system_template), (\"user\", \"{text}\")]\n",
    ")"
   ]
  },
  {
   "cell_type": "code",
   "execution_count": 47,
   "id": "a255fc84-d673-4a2e-b77b-a29754851f94",
   "metadata": {},
   "outputs": [
    {
     "data": {
      "text/plain": [
       "ChatPromptValue(messages=[SystemMessage(content='Translate the following into italian:'), HumanMessage(content='hi')])"
      ]
     },
     "execution_count": 47,
     "metadata": {},
     "output_type": "execute_result"
    }
   ],
   "source": [
    "# The input to this prompt template is a dictionary. We can play around with this prompt template by itself to see what it does by itself\n",
    "result = prompt_template.invoke({\"language\": \"italian\", \"text\": \"hi\"})\n",
    "result"
   ]
  },
  {
   "cell_type": "code",
   "execution_count": 48,
   "id": "111ef066-320b-4500-8ed7-6cb199d1da1a",
   "metadata": {},
   "outputs": [
    {
     "data": {
      "text/plain": [
       "'Translate the following into italian:'"
      ]
     },
     "execution_count": 48,
     "metadata": {},
     "output_type": "execute_result"
    }
   ],
   "source": [
    "result.to_messages()[0].content # Accessing directly the system message"
   ]
  },
  {
   "cell_type": "markdown",
   "id": "784a1d57-8bba-4fca-a5de-a9f2a42e39be",
   "metadata": {},
   "source": [
    "### Chaining together components with LCEL "
   ]
  },
  {
   "cell_type": "code",
   "execution_count": 50,
   "id": "d67d7c90-e705-4d1e-b384-6da0d0e99417",
   "metadata": {},
   "outputs": [
    {
     "data": {
      "text/plain": [
       "' Ciao! That\\'s how you say \"hi\" in Italian. It\\'s always nice to start a conversation with a friendly greeting! Is there anything specific you would like to know or discuss in Italian? I\\'m here to help, so feel free to ask me anything!'"
      ]
     },
     "execution_count": 50,
     "metadata": {},
     "output_type": "execute_result"
    }
   ],
   "source": [
    "chain = prompt_template | model | parser\n",
    "\n",
    "chain.invoke({\"language\": \"italian\", \"text\": \"hi\"})"
   ]
  }
 ],
 "metadata": {
  "kernelspec": {
   "display_name": "Python 3 (ipykernel)",
   "language": "python",
   "name": "python3"
  },
  "language_info": {
   "codemirror_mode": {
    "name": "ipython",
    "version": 3
   },
   "file_extension": ".py",
   "mimetype": "text/x-python",
   "name": "python",
   "nbconvert_exporter": "python",
   "pygments_lexer": "ipython3",
   "version": "3.10.13"
  }
 },
 "nbformat": 4,
 "nbformat_minor": 5
}
